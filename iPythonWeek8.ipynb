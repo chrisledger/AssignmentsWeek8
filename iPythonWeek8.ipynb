{
 "metadata": {
  "name": "",
  "signature": "sha256:e05bd4539f6ce3f8bb4a47bd185215475a1019592d4cbadfeea275b88a94d2d4"
 },
 "nbformat": 3,
 "nbformat_minor": 0,
 "worksheets": [
  {
   "cells": [
    {
     "cell_type": "markdown",
     "metadata": {},
     "source": [
      "# iPythonWeek8"
     ]
    },
    {
     "cell_type": "code",
     "collapsed": false,
     "input": [
      "import sqlite3"
     ],
     "language": "python",
     "metadata": {},
     "outputs": [],
     "prompt_number": 7
    },
    {
     "cell_type": "code",
     "collapsed": false,
     "input": [
      "conn = sqlite3.connect('week8.db')\n",
      "cur = conn.cursor()\n",
      "cur.execute('SELECT ProjectName,Experiment.* FROM Project INNER JOIN Experiment WHERE Project.ProjectID = Experiment.ProjectID')\n",
      "\n",
      "for row in cur:\n",
      "    print row"
     ],
     "language": "python",
     "metadata": {},
     "outputs": [
      {
       "output_type": "stream",
       "stream": "stdout",
       "text": [
        "(u'Jaguar', 1, 1, 5, u'2014-07-13', 4.5)\n",
        "(u'Jaguar', 1, 2, 7, u'2014-07-15', 4)\n",
        "(u'Tiger', 2, 1, 9, u'2014-06-17', 3)\n",
        "(u'Lion', 3, 1, 2, u'2014-07-01', 2.8)\n",
        "(u'Lion', 3, 2, 6, u'2014-07-10', 4.1)\n",
        "(u'Lion', 3, 3, 1, u'2014-07-15', 3.6)\n"
       ]
      }
     ],
     "prompt_number": 14
    },
    {
     "cell_type": "code",
     "collapsed": false,
     "input": [],
     "language": "python",
     "metadata": {},
     "outputs": [],
     "prompt_number": 6
    },
    {
     "cell_type": "code",
     "collapsed": false,
     "input": [],
     "language": "python",
     "metadata": {},
     "outputs": []
    }
   ],
   "metadata": {}
  }
 ]
}